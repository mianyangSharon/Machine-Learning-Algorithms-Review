{
 "cells": [
  {
   "cell_type": "markdown",
   "metadata": {},
   "source": [
    "## Accuracy\n",
    "$$ Accuracy = n_{correct} / n_{total} = (tp+tn)/(tp+tn+fp+fn) $$\n",
    "\n",
    "* The limitation of using accuracy: (when the data is highly unbalanced)\n",
    "\n",
    "* e.g. if I have 99% data in class 1, and I classify all data points to class 1, I still get high accuracy"
   ]
  },
  {
   "cell_type": "code",
   "execution_count": 1,
   "metadata": {},
   "outputs": [],
   "source": [
    "# assume prediction, label are both 1-d numpy array containing 0,1 (True/False) of same size\n",
    "def accuracy(prediction, label):\n",
    "    return sum(prediction==label)/len(label)"
   ]
  },
  {
   "cell_type": "markdown",
   "metadata": {},
   "source": [
    "## Precision-Recall Curve\n",
    "\n",
    "* When we talk about Percision/Recall, it is specific to one class; For example, suppose we have 2 classes P,N\n",
    "\n",
    "* The Percision for P class is \"你预测为正的样本中有多少预测对了\":\n",
    "$$ Percision = tp/(tp+fp) $$\n",
    "\n",
    "* The Recall for P class is \"真实标签为正的样本有多少被你预测对了\":\n",
    "$$ Recall = tp/(tp+fn)$$\n",
    "\n",
    "* Precision-Recall Curve is best for naturally highly skewed data (e.g. credit fraud data)\n"
   ]
  },
  {
   "cell_type": "code",
   "execution_count": 3,
   "metadata": {},
   "outputs": [],
   "source": [
    "# assume prediction, label are both 1-d numpy array containing 0,1 (True/False) of same size\n",
    "def precision(prediction, label):\n",
    "    return sum(prediction[label==1])/sum(prediction)\n",
    "\n",
    "def recall(prediction, label):\n",
    "    return sum(prediction[label==1])/sum(label)"
   ]
  },
  {
   "cell_type": "markdown",
   "metadata": {},
   "source": [
    "## F1 Score\n",
    "* Just like precision/recall, F1 score is also specific to one class\n",
    "\n",
    "$$ F1 score = 2 * recall * precision /(recall+precision) $$"
   ]
  },
  {
   "cell_type": "code",
   "execution_count": 4,
   "metadata": {},
   "outputs": [],
   "source": [
    "def f1_score(prediction, label):\n",
    "    return 2*precision(prediction, label)*recall(prediction, label)/(precision(prediction, label)+recall(prediction, label))"
   ]
  },
  {
   "cell_type": "markdown",
   "metadata": {},
   "source": [
    "## ROC Curve\n",
    "* when the distribution of positive/negative data changes, ROC curve remains stable. This is useful because in real life a lot of times the distribution of pos/neg data always changes...\n",
    "* Thus ROC Curve is best for ~equally distributed two-class data; \n",
    "* ROC Curve is a more stable way to measure the models when the distribution of pos/neg data varies between datasets\n",
    "* AND Precision-Recall Curve is best for observing naturally highly skewed data (e.g. credit fraud data)"
   ]
  },
  {
   "cell_type": "code",
   "execution_count": null,
   "metadata": {},
   "outputs": [],
   "source": []
  },
  {
   "cell_type": "markdown",
   "metadata": {},
   "source": [
    "## AUC\n",
    "* usually AUC is between 0.5 - 1.\n",
    "* The larger the AUC, the higher possibility that the true positive data would be   the better the classification model."
   ]
  },
  {
   "cell_type": "code",
   "execution_count": null,
   "metadata": {},
   "outputs": [],
   "source": []
  }
 ],
 "metadata": {
  "kernelspec": {
   "display_name": "Python 3",
   "language": "python",
   "name": "python3"
  },
  "language_info": {
   "codemirror_mode": {
    "name": "ipython",
    "version": 3
   },
   "file_extension": ".py",
   "mimetype": "text/x-python",
   "name": "python",
   "nbconvert_exporter": "python",
   "pygments_lexer": "ipython3",
   "version": "3.5.4"
  }
 },
 "nbformat": 4,
 "nbformat_minor": 2
}
